{
  "nbformat": 4,
  "nbformat_minor": 0,
  "metadata": {
    "kernelspec": {
      "display_name": "Python 3",
      "language": "python",
      "name": "python3"
    },
    "language_info": {
      "codemirror_mode": {
        "name": "ipython",
        "version": 3
      },
      "file_extension": ".py",
      "mimetype": "text/x-python",
      "name": "python",
      "nbconvert_exporter": "python",
      "pygments_lexer": "ipython3",
      "version": "3.7.6"
    },
    "colab": {
      "name": "04_listes.ipynb",
      "provenance": [],
      "collapsed_sections": [],
      "include_colab_link": true
    }
  },
  "cells": [
    {
      "cell_type": "markdown",
      "metadata": {
        "id": "view-in-github",
        "colab_type": "text"
      },
      "source": [
        "<a href=\"https://colab.research.google.com/github/uvsq22106356/l1-python/blob/master/04_listes.ipynb\" target=\"_parent\"><img src=\"https://colab.research.google.com/assets/colab-badge.svg\" alt=\"Open In Colab\"/></a>"
      ]
    },
    {
      "cell_type": "markdown",
      "metadata": {
        "id": "8_kB5hWOmVs8"
      },
      "source": [
        "# TD 4: Listes"
      ]
    },
    {
      "cell_type": "markdown",
      "metadata": {
        "id": "Sod6ewtjmVtB"
      },
      "source": [
        "---\n",
        "\n",
        "## 1. Débuts avec les listes\n",
        "\n",
        "Dans cette partie, il faut écrire les réponses directement dans le notebook. En plus du cours, n'hésitez pas à consulter la documentation (tutoriel) Python sur les listes [ici (introduction aux listes)](https://docs.python.org/fr/3.6/tutorial/introduction.html#lists) et [ici (complément sur les listes)] (https://docs.python.org/fr/3/tutorial/datastructures.html#more-on-lists).\n",
        "\n",
        "1. Créer la liste `3, 5, 10`, l'affecter à une variable, puis l'afficher."
      ]
    },
    {
      "cell_type": "code",
      "metadata": {
        "colab": {
          "base_uri": "https://localhost:8080/"
        },
        "id": "E1BGbIU3mVtD",
        "outputId": "108ea9c6-14a8-4cd2-91e7-bc5d91957629"
      },
      "source": [
        "entiers = [3, 5, 10]\n",
        "print(entiers)"
      ],
      "execution_count": null,
      "outputs": [
        {
          "output_type": "stream",
          "name": "stdout",
          "text": [
            "[3, 5, 10]\n"
          ]
        }
      ]
    },
    {
      "cell_type": "code",
      "metadata": {
        "colab": {
          "base_uri": "https://localhost:8080/",
          "height": 130
        },
        "id": "NwT5uPFKbFpS",
        "outputId": "f30e166a-480c-4469-91fb-8a0f8a0f46da"
      },
      "source": [
        "nom = \"\"\n",
        "while nom == \"\"\n",
        "  nom = input(\"quel est votre nom?\"):\n",
        " "
      ],
      "execution_count": null,
      "outputs": [
        {
          "output_type": "error",
          "ename": "SyntaxError",
          "evalue": "ignored",
          "traceback": [
            "\u001b[0;36m  File \u001b[0;32m\"<ipython-input-6-81d91dc99dc7>\"\u001b[0;36m, line \u001b[0;32m2\u001b[0m\n\u001b[0;31m    while nom == \"\"\u001b[0m\n\u001b[0m                   ^\u001b[0m\n\u001b[0;31mSyntaxError\u001b[0m\u001b[0;31m:\u001b[0m invalid syntax\n"
          ]
        }
      ]
    },
    {
      "cell_type": "markdown",
      "metadata": {
        "id": "aAcp649VmVtF"
      },
      "source": [
        "2. Ajouter ensuite 12 et 17 à la fin puis afficher à nouveau la liste."
      ]
    },
    {
      "cell_type": "code",
      "metadata": {
        "colab": {
          "base_uri": "https://localhost:8080/"
        },
        "id": "ihtQOJMamVtH",
        "outputId": "7b081dbc-3ba7-4f5e-e4c7-96e4b3d3ead9"
      },
      "source": [
        "entiers.append(12)\n",
        "print(entiers)"
      ],
      "execution_count": null,
      "outputs": [
        {
          "output_type": "stream",
          "name": "stdout",
          "text": [
            "[3, 5, 10, 12]\n"
          ]
        }
      ]
    },
    {
      "cell_type": "code",
      "metadata": {
        "colab": {
          "base_uri": "https://localhost:8080/"
        },
        "id": "2Up5cMvvmumW",
        "outputId": "12a1ed41-f686-455f-ea02-68d9b03aa171"
      },
      "source": [
        "entiers.append(17)\n",
        "print(entiers)"
      ],
      "execution_count": null,
      "outputs": [
        {
          "output_type": "stream",
          "name": "stdout",
          "text": [
            "[3, 5, 10, 12, 17]\n"
          ]
        }
      ]
    },
    {
      "cell_type": "markdown",
      "metadata": {
        "id": "IJ_zmOanmVtI"
      },
      "source": [
        "3. Changer le 10 en -7."
      ]
    },
    {
      "cell_type": "code",
      "metadata": {
        "colab": {
          "base_uri": "https://localhost:8080/"
        },
        "id": "Lh0VNyDamVtJ",
        "outputId": "9480d389-3035-4f2e-af34-dde0bfe3cc8c"
      },
      "source": [
        "entiers=[3, 5, 10, 12, 17]\n",
        "entiers[2]=-7\n",
        "print(entiers)\n",
        "\n",
        "\n",
        "\n"
      ],
      "execution_count": null,
      "outputs": [
        {
          "output_type": "stream",
          "name": "stdout",
          "text": [
            "[3, 5, -7, 12, 17]\n"
          ]
        }
      ]
    },
    {
      "cell_type": "markdown",
      "metadata": {
        "id": "bdoN14ShmVtJ"
      },
      "source": [
        "4. Avec une boucle `for`, écrire le double de chaque élément de la liste. Cela doit afficher `[6, 10, -14, 24, 34]`. La liste doit être modifiée."
      ]
    },
    {
      "cell_type": "code",
      "metadata": {
        "colab": {
          "base_uri": "https://localhost:8080/"
        },
        "id": "V0nErMMumVtK",
        "outputId": "d9e3b619-2469-4047-b832-53f4a0f7c787"
      },
      "source": [
        "michel=[i*2 for i in entiers]\n",
        "print(michel)"
      ],
      "execution_count": null,
      "outputs": [
        {
          "output_type": "stream",
          "name": "stdout",
          "text": [
            "[6, 10, -14, 24, 34]\n"
          ]
        }
      ]
    },
    {
      "cell_type": "markdown",
      "metadata": {
        "id": "tsfEVSDqmVtL"
      },
      "source": [
        "5. A l'aide d'une boucle `for`, ajouter  la valeur `i` à l'élément d'indice `i` de la liste. Cela doit afficher `[6, 11, -12, 27, 38]`. La liste doit être modifiée."
      ]
    },
    {
      "cell_type": "code",
      "metadata": {
        "colab": {
          "base_uri": "https://localhost:8080/"
        },
        "id": "vOYvtQyCmVtM",
        "outputId": "00ad0eb6-5c7b-4e41-d2cb-9a4f5905d287"
      },
      "source": [
        "for i in range(len(michel)):\n",
        "  michel[i]= michel[i]+i\n",
        "print(michel)"
      ],
      "execution_count": null,
      "outputs": [
        {
          "output_type": "stream",
          "name": "stdout",
          "text": [
            "[6, 11, -12, 27, 38]\n"
          ]
        }
      ]
    },
    {
      "cell_type": "markdown",
      "metadata": {
        "id": "cU8IEDlCmVtM"
      },
      "source": [
        "6. Tirer 10 nombres à 2 chiffres au hasard et les mettre dans une nouvelle liste (vide au départ), puis afficher la somme des entiers de la liste et le plus grand de ces entiers."
      ]
    },
    {
      "cell_type": "code",
      "metadata": {
        "id": "rljlKt6_eu59"
      },
      "source": [
        "from random import *\n",
        "liste=[]\n",
        "for i in range(10):\n",
        "  liste.append(randint(10,100))"
      ],
      "execution_count": null,
      "outputs": []
    },
    {
      "cell_type": "code",
      "metadata": {
        "id": "4eFOfNzTiiRH"
      },
      "source": [
        "sum= \"somme\" additionne tous les entiers de la liste \n",
        "import random = importe un \"dossier\""
      ],
      "execution_count": null,
      "outputs": []
    },
    {
      "cell_type": "code",
      "metadata": {
        "id": "81gNIkfEmVtN",
        "colab": {
          "base_uri": "https://localhost:8080/"
        },
        "outputId": "b3b19990-9478-4f76-ecd0-10088719449f"
      },
      "source": [
        "import random\n",
        "liste=[]\n",
        "for i in range(10):\n",
        "  a=random.randint(10,100)\n",
        "  liste.append(a)\n",
        "print(liste)\n",
        "sum(liste)"
      ],
      "execution_count": 4,
      "outputs": [
        {
          "output_type": "stream",
          "name": "stdout",
          "text": [
            "[87, 19, 62, 26, 93, 54, 100, 94, 42, 98]\n"
          ]
        },
        {
          "output_type": "execute_result",
          "data": {
            "text/plain": [
              "675"
            ]
          },
          "metadata": {},
          "execution_count": 4
        }
      ]
    },
    {
      "cell_type": "markdown",
      "metadata": {
        "id": "1hs9tvHAmVtN"
      },
      "source": [
        "7. A partir de la liste choisie au hasard, créer une liste qui contient les éléments pairs et une deuxième liste qui contient les éléments impairs."
      ]
    },
    {
      "cell_type": "code",
      "metadata": {
        "id": "wriNVhJ2mVtO",
        "colab": {
          "base_uri": "https://localhost:8080/"
        },
        "outputId": "cd710b01-13dd-49bd-86bc-73bd1cc86973"
      },
      "source": [
        "pair=[]\n",
        "impair=[]\n",
        "\n",
        "for i in liste:\n",
        "  if i%2==0:\n",
        "    pair.append(i)\n",
        "  else:\n",
        "    impair.append(i)\n",
        "print(pair)\n",
        "print(impair)"
      ],
      "execution_count": 5,
      "outputs": [
        {
          "output_type": "stream",
          "name": "stdout",
          "text": [
            "[62, 26, 54, 100, 94, 42, 98]\n",
            "[87, 19, 93]\n"
          ]
        }
      ]
    },
    {
      "cell_type": "markdown",
      "metadata": {
        "id": "camu0F5ZmVtP"
      },
      "source": [
        "8. Trier la liste choisie au hasard par ordre croissant en modifiant la liste."
      ]
    },
    {
      "cell_type": "code",
      "metadata": {
        "id": "SnzcrJuQmVtQ",
        "colab": {
          "base_uri": "https://localhost:8080/"
        },
        "outputId": "0a7204cd-ee79-4730-fcff-a69cd78ff5ec"
      },
      "source": [
        "dounia = sorted(liste)\n",
        "print(dounia)\n"
      ],
      "execution_count": 6,
      "outputs": [
        {
          "output_type": "stream",
          "name": "stdout",
          "text": [
            "[19, 26, 42, 54, 62, 87, 93, 94, 98, 100]\n"
          ]
        }
      ]
    },
    {
      "cell_type": "markdown",
      "metadata": {
        "id": "TwWoLtuOmVtR"
      },
      "source": [
        "9. Supprimer le plus petit et le plus grand élément de la liste triée."
      ]
    },
    {
      "cell_type": "code",
      "metadata": {
        "id": "7fXIAx54mVtR",
        "colab": {
          "base_uri": "https://localhost:8080/"
        },
        "outputId": "aaab7e42-32c1-499b-f893-f63b63a815d5"
      },
      "source": [
        "dounia.remove(min(dounia))\n",
        "dounia.remove(max(dounia))\n",
        "print(dounia)\n"
      ],
      "execution_count": 7,
      "outputs": [
        {
          "output_type": "stream",
          "name": "stdout",
          "text": [
            "[26, 42, 54, 62, 87, 93, 94, 98]\n"
          ]
        }
      ]
    },
    {
      "cell_type": "markdown",
      "metadata": {
        "id": "rLJPB5S1mVtS"
      },
      "source": [
        "10. Créer la liste des entiers de 1 jusqu'à 52. Ces entiers représentent les cartes d'un paquet de 52 cartes."
      ]
    },
    {
      "cell_type": "code",
      "metadata": {
        "id": "fsyUQEQSmVtT"
      },
      "source": [
        ""
      ],
      "execution_count": null,
      "outputs": []
    },
    {
      "cell_type": "markdown",
      "metadata": {
        "id": "dBDENgsymVtT"
      },
      "source": [
        " 11. Couper le jeu de carte revient à choisir un indice `i` entre 0 et 51, et à passer toutes les cartes allant des indices 0 à i-1 à la suite des cartes qui vont des indices i à 51. Ecrire le code qui effectue une coupe choisie au hasard."
      ]
    },
    {
      "cell_type": "code",
      "metadata": {
        "id": "0M-UPsvHmVtU"
      },
      "source": [
        ""
      ],
      "execution_count": null,
      "outputs": []
    },
    {
      "cell_type": "markdown",
      "metadata": {
        "id": "AngFRjIpmVtV"
      },
      "source": [
        "---\n",
        "\n",
        "## 2. Problème de Syracuse\n",
        "\n",
        "Cette partie est à traiter dans un script que vous pouvez appeler, par exemple, `syracuse.py`.\n",
        "\n",
        "En partant d'un entier `n` de départ, on définit une suite d'entiers en obtenant chaque nouveau terme à partir du précédent soit en le divisant par 2 s'il est pair, soit en le multipliant par 3 et en ajoutant 1 s'il est impair. \n",
        "\n",
        "1. Sans écrire de programme, calculer les premières valeurs de la suite en chosissant `n = 3`.\n",
        "\n",
        "2. Ecrire la fonction qui, à partir d'un entier initial, renvoie la liste des valeurs successives jusqu'à ce que la valeur `1` soit atteinte (le dernier élément de la liste est donc toujours 1)."
      ]
    },
    {
      "cell_type": "code",
      "metadata": {
        "colab": {
          "base_uri": "https://localhost:8080/"
        },
        "id": "TM9_JfxZmVtW",
        "outputId": "721a14e9-c040-40c2-ec9b-6c771fb64219"
      },
      "source": [
        "def syracuse(n):\n",
        "    \"\"\" Retourne la liste des valeurs de la suite en partant de n jusqu'à 1 \"\"\"\n",
        "    if n % 2==0:\n",
        "     n= n//2\n",
        "    else:\n",
        "      \n",
        "\n",
        "print(syracuse(3))"
      ],
      "execution_count": 8,
      "outputs": [
        {
          "output_type": "stream",
          "name": "stdout",
          "text": [
            "None\n"
          ]
        }
      ]
    },
    {
      "cell_type": "code",
      "source": [
        "n=4\n",
        "y=n//2\n",
        "print(y)"
      ],
      "metadata": {
        "colab": {
          "base_uri": "https://localhost:8080/"
        },
        "id": "2M1sShG1yV51",
        "outputId": "d5b39d07-8bbc-4365-e8c5-bcf3557777d7"
      },
      "execution_count": 13,
      "outputs": [
        {
          "output_type": "stream",
          "name": "stdout",
          "text": [
            "2\n"
          ]
        }
      ]
    },
    {
      "cell_type": "markdown",
      "metadata": {
        "id": "eSTG_JBLmVtY"
      },
      "source": [
        "3. La conjecture de Collatz (ou problème de Syracuse) affirme que, quel que soit l’entier `n` que l’on choisisse au départ, on finit toujours par arriver à 1 (ce résultat est une *conjecture*, c'est-à-dire qu'il n'a pas été démontré, mais qu'il n'existe pas de contre-exemple connu). Écrire une fonction qui, en appelant la fonction précédente, va vérifier si la conjecture est vraie pour `n` de 1 à `n_max`, où `n_max` est un paramètre de la fonction. \n",
        "\n",
        "*Remarque*: si tout se passe bien, la fonction doit juste se terminer et renvoyer `True` par exemple. Sinon, c’est qu’on sera entré dans une boucle infinie."
      ]
    },
    {
      "cell_type": "code",
      "metadata": {
        "tags": [],
        "colab": {
          "base_uri": "https://localhost:8080/"
        },
        "id": "4jaTxNaimVtZ",
        "outputId": "0210cf09-fa34-49f5-f5b6-969ae7afe1a8"
      },
      "source": [
        "def testeConjecture(n_max):\n",
        "    \"\"\" Teste la conjecture de Collatz pour toutes les valeurs de 2 à n_max \"\"\"\n",
        "    pass\n",
        "\n",
        "print(testeConjecture(10000))"
      ],
      "execution_count": null,
      "outputs": [
        {
          "output_type": "stream",
          "name": "stdout",
          "text": [
            "None\n"
          ]
        }
      ]
    },
    {
      "cell_type": "markdown",
      "metadata": {
        "id": "V7mKyusPmVta"
      },
      "source": [
        "4. On appelle *temps de vol* de l’entier `n` le nombre d’étapes pour aller de `n` jusqu’à 1. Le temps de vol de 1 est 0, le temps de vol de 3 est 7. Écrire une fonction qui, étant donné un paramètre `n`, renvoie son temps de vol."
      ]
    },
    {
      "cell_type": "code",
      "metadata": {
        "colab": {
          "base_uri": "https://localhost:8080/"
        },
        "id": "WkEwaOLAmVtb",
        "outputId": "7c7fda2a-4a05-49f1-97cd-c4daad136eb5"
      },
      "source": [
        "def tempsVol(n):\n",
        "    \"\"\" Retourne le temps de vol de n \"\"\"\n",
        "    pass\n",
        "\n",
        "print(\"Le temps de vol de\", 3, \"est\", tempsVol(3))"
      ],
      "execution_count": null,
      "outputs": [
        {
          "output_type": "stream",
          "name": "stdout",
          "text": [
            "Le temps de vol de 3 est None\n"
          ]
        }
      ]
    },
    {
      "cell_type": "markdown",
      "metadata": {
        "id": "j15nk2TgmVtb"
      },
      "source": [
        "5. Ecrire une fonction qui, étant donné un paramètre `n_max` renvoie la liste des temps de vol de tous les entiers de 1 à `n_max`. *Indication*: utiliser une liste en compréhension."
      ]
    },
    {
      "cell_type": "code",
      "metadata": {
        "colab": {
          "base_uri": "https://localhost:8080/"
        },
        "id": "1ABLQdb_mVtc",
        "outputId": "2bdd7190-ac73-4981-81bf-15a2d46f12ec"
      },
      "source": [
        "def tempsVolListe(n_max):\n",
        "    \"\"\" Retourne la liste de tous les temps de vol de 1 à n_max \"\"\"\n",
        "    pass\n",
        "\n",
        "print(tempsVolListe(100))"
      ],
      "execution_count": null,
      "outputs": [
        {
          "output_type": "stream",
          "name": "stdout",
          "text": [
            "None\n"
          ]
        }
      ]
    },
    {
      "cell_type": "markdown",
      "metadata": {
        "id": "hCyjjubemVtc"
      },
      "source": [
        "6. Déterminer quel entier entre 1 et 10000 a le plus grand temps de vol (réponse 6171 qui a le temps de vol 261)."
      ]
    },
    {
      "cell_type": "markdown",
      "metadata": {
        "id": "VtAmpV55mVtd"
      },
      "source": [
        "7. L’altitude maximale de l'entier `n` est la plus grande valeur par laquelle passe `n` au cours de son vol. Déterminer quel entier entre 1 et 10000 a la plus grande altitude maximale (réponse 27114424, atteint par l'entier 9663). Ne pas hésiter à écrire de nouvelles fonctions pour cela."
      ]
    },
    {
      "cell_type": "markdown",
      "metadata": {
        "id": "Xv1mVuHpmVtd"
      },
      "source": [
        "---\n",
        "\n",
        "## 3. Carré magique\n",
        "\n",
        "*Définition* extraite de [l'article Wikipedia sur le carré magique](https://fr.wikipedia.org/wiki/Carr%C3%A9_magique_(math%C3%A9matiques)): en mathématiques, un carré magique d’ordre $n$ est composé de $n^2$ entiers strictement positifs, écrits sous la forme d’un tableau carré. Ces nombres sont disposés de sorte que leurs sommes sur chaque rangée, sur chaque colonne et sur chaque diagonale principale soient égales. On nomme alors *constante magique* la valeur de ces sommes. \n",
        "\n",
        "Un exemple de carré magique:\n",
        "\n",
        "$$\\begin{bmatrix} 4 & 14 & 15 & 1 \\\\ 9 & 7 & 6 & 12 \\\\ 5 & 11 & 10 & 8 \\\\ 16 & 2 & 3 & 13 \\end{bmatrix}$$\n",
        "\n",
        "1. Sans écrire de programme, vérifier qu'il s'agit bien d'un carré magique, et donner sa constante magique.\n",
        "\n",
        "Les questions qui suivent doivent être traitées dans un script, qui peut s'appeler `carre_magique.py`. Pensez à utiliser [PythonTutor](http://pythontutor.com/) et les outils de programmation pour résoudre les problèmes qui pourraient survenir.\n",
        "\n",
        "2. Créer une liste à deux dimensions affectée à  la variable `carre_mag` contenant ce carré magique."
      ]
    },
    {
      "cell_type": "markdown",
      "metadata": {
        "id": "bBWPat53mVte"
      },
      "source": [
        "3. Créer une deuxième liste affectée à la variable `carre_pas_mag` qui ne soit pas magique à partir du carré magique en changeant le 3 en 7. "
      ]
    },
    {
      "cell_type": "markdown",
      "metadata": {
        "id": "jQ17hox5mVte"
      },
      "source": [
        "4. Créer une fonction qui affiche la liste comme un carré."
      ]
    },
    {
      "cell_type": "code",
      "metadata": {
        "colab": {
          "base_uri": "https://localhost:8080/",
          "height": 215
        },
        "id": "9Wk5sKyWmVtf",
        "outputId": "22b4d9e8-05dc-4b3c-972f-b7545470baa6"
      },
      "source": [
        "def afficheCarre(carre):\n",
        "    \"\"\" Affiche la liste à 2 dimensions carre comme un carré\"\"\"\n",
        "    pass\n",
        "\n",
        "afficheCarre(carre_mag)\n",
        "afficheCarre(carre_pas_mag)\n"
      ],
      "execution_count": null,
      "outputs": [
        {
          "output_type": "error",
          "ename": "NameError",
          "evalue": "ignored",
          "traceback": [
            "\u001b[0;31m---------------------------------------------------------------------------\u001b[0m",
            "\u001b[0;31mNameError\u001b[0m                                 Traceback (most recent call last)",
            "\u001b[0;32m<ipython-input-21-049df92ef36a>\u001b[0m in \u001b[0;36m<module>\u001b[0;34m()\u001b[0m\n\u001b[1;32m      3\u001b[0m     \u001b[0;32mpass\u001b[0m\u001b[0;34m\u001b[0m\u001b[0;34m\u001b[0m\u001b[0m\n\u001b[1;32m      4\u001b[0m \u001b[0;34m\u001b[0m\u001b[0m\n\u001b[0;32m----> 5\u001b[0;31m \u001b[0mafficheCarre\u001b[0m\u001b[0;34m(\u001b[0m\u001b[0mcarre_mag\u001b[0m\u001b[0;34m)\u001b[0m\u001b[0;34m\u001b[0m\u001b[0;34m\u001b[0m\u001b[0m\n\u001b[0m\u001b[1;32m      6\u001b[0m \u001b[0mafficheCarre\u001b[0m\u001b[0;34m(\u001b[0m\u001b[0mcarre_pas_mag\u001b[0m\u001b[0;34m)\u001b[0m\u001b[0;34m\u001b[0m\u001b[0;34m\u001b[0m\u001b[0m\n",
            "\u001b[0;31mNameError\u001b[0m: name 'carre_mag' is not defined"
          ]
        }
      ]
    },
    {
      "cell_type": "markdown",
      "metadata": {
        "id": "owCg5DZrmVtf"
      },
      "source": [
        "5. Ecrire une fonction qui teste si les lignes du carré ont toutes la même somme. Cette fonction renvoie cette somme si c'est le cas, et `-1` sinon."
      ]
    },
    {
      "cell_type": "code",
      "metadata": {
        "id": "9J-Ow7MBmVtg"
      },
      "source": [
        "def testLignesEgales(carre):\n",
        "    \"\"\" Renvoie la somme des éléments d'une ligne de la liste 2D carre si toutes les lignes ont la même somme, et -1 sinon \"\"\"\n",
        "    pass\n",
        "\n",
        "print(testLignesEgales(carre_mag))\n",
        "print(testLignesEgales(carre_pas_mag))\n"
      ],
      "execution_count": null,
      "outputs": []
    },
    {
      "cell_type": "markdown",
      "metadata": {
        "id": "fw9LXSMbmVtg"
      },
      "source": [
        "6. Même question mais en testant les colonnes."
      ]
    },
    {
      "cell_type": "code",
      "metadata": {
        "id": "5AbApl3UmVth"
      },
      "source": [
        "def testColonnesEgales(carre):\n",
        "    \"\"\" Renvoie la somme des éléments d'une colonne de la liste 2D carre si toutes les colonnes ont la même somme, et -1 sinon \"\"\"\n",
        "    pass\n",
        "\n",
        "print(testColonnesEgales(carre_mag))\n",
        "print(testColonnesEgales(carre_pas_mag))"
      ],
      "execution_count": null,
      "outputs": []
    },
    {
      "cell_type": "markdown",
      "metadata": {
        "id": "ngcyUBuEmVth"
      },
      "source": [
        "7. Même question mais en testant les 2 diagonales."
      ]
    },
    {
      "cell_type": "code",
      "metadata": {
        "id": "ViozLLBPmVti"
      },
      "source": [
        "def testDiagonalesEgales(carre):\n",
        "    \"\"\" Renvoie la somme des éléments d'une diagonale de la liste 2D carre si les 2 diagonales ont la même somme, et -1 sinon \"\"\"\n",
        "    pass\n",
        "\n",
        "print(testDiagonalesEgales(carre_mag))\n",
        "print(testDiagonalesEgales(carre_pas_mag))"
      ],
      "execution_count": null,
      "outputs": []
    },
    {
      "cell_type": "markdown",
      "metadata": {
        "id": "cgrgfC9GmVti"
      },
      "source": [
        "8. Créer une fonction qui teste si un carré est magique. Elle retourne `True` si c'est le cas et `False` sinon."
      ]
    },
    {
      "cell_type": "code",
      "metadata": {
        "id": "lEFF5WI4mVtj"
      },
      "source": [
        "def estCarreMagique(carre):\n",
        "    \"\"\" Renvoie True si c'est un carre magique et False sinon\"\"\"\n",
        "    pass\n",
        "\n",
        "print(estCarreMagique(carre_mag))\n",
        "print(estCarreMagique(carre_pas_mag))"
      ],
      "execution_count": null,
      "outputs": []
    },
    {
      "cell_type": "markdown",
      "metadata": {
        "id": "WwBswpL3mVtj"
      },
      "source": [
        "9. Un carré d'ordre $n$ est *normal* s'il contient tous les entiers de 1 à $n^2$. Ecrire une fonction qui teste si un carré est normal (pas nécessairement magique)."
      ]
    },
    {
      "cell_type": "code",
      "metadata": {
        "id": "XxfeHIegmVtj"
      },
      "source": [
        "def estNormal(carre):\n",
        "    \"\"\" Retourne True si contient toutes les valeurs de 1 à n^2 où n est la taille \n",
        "        du carré, et False sinon \"\"\"\n",
        "    pass\n",
        "\n",
        "print(estNormal(carre_mag))\n",
        "print(estNormal(carre_pas_mag))"
      ],
      "execution_count": null,
      "outputs": []
    }
  ]
}